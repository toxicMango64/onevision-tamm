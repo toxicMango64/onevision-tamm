{
 "cells": [
  {
   "cell_type": "code",
   "execution_count": 1,
   "metadata": {
    "_cell_guid": "b1076dfc-b9ad-4769-8c92-a6c4dae69d19",
    "_uuid": "8f2839f25d086af736a60e9eeb907d3b93b6e0e5",
    "execution": {
     "iopub.execute_input": "2025-04-22T17:20:45.290077Z",
     "iopub.status.busy": "2025-04-22T17:20:45.289873Z",
     "iopub.status.idle": "2025-04-22T17:20:48.473764Z",
     "shell.execute_reply": "2025-04-22T17:20:48.472728Z",
     "shell.execute_reply.started": "2025-04-22T17:20:45.290061Z"
    },
    "trusted": true
   },
   "outputs": [
    {
     "name": "stdout",
     "output_type": "stream",
     "text": [
      "Requirement already satisfied: pytorch_metric_learning in /root/.venv/lib/python3.10/site-packages (2.8.1)\n",
      "Requirement already satisfied: faiss-gpu-cu12 in /root/.venv/lib/python3.10/site-packages (1.10.0)\n",
      "Requirement already satisfied: torch>=1.6.0 in /root/.venv/lib/python3.10/site-packages (from pytorch_metric_learning) (2.6.0)\n",
      "Requirement already satisfied: numpy in /root/.venv/lib/python3.10/site-packages (from pytorch_metric_learning) (1.26.4)\n",
      "Requirement already satisfied: scikit-learn in /root/.venv/lib/python3.10/site-packages (from pytorch_metric_learning) (1.6.1)\n",
      "Requirement already satisfied: tqdm in /root/.venv/lib/python3.10/site-packages (from pytorch_metric_learning) (4.67.1)\n",
      "Requirement already satisfied: nvidia-cublas-cu12>=12.1.3.1 in /root/.venv/lib/python3.10/site-packages (from faiss-gpu-cu12) (12.4.5.8)\n",
      "Requirement already satisfied: nvidia-cuda-runtime-cu12>=12.1.105 in /root/.venv/lib/python3.10/site-packages (from faiss-gpu-cu12) (12.4.127)\n",
      "Requirement already satisfied: packaging in /root/.venv/lib/python3.10/site-packages (from faiss-gpu-cu12) (25.0)\n",
      "Requirement already satisfied: nvidia-nvtx-cu12==12.4.127 in /root/.venv/lib/python3.10/site-packages (from torch>=1.6.0->pytorch_metric_learning) (12.4.127)\n",
      "Requirement already satisfied: nvidia-cusolver-cu12==11.6.1.9 in /root/.venv/lib/python3.10/site-packages (from torch>=1.6.0->pytorch_metric_learning) (11.6.1.9)\n",
      "Requirement already satisfied: nvidia-nccl-cu12==2.21.5 in /root/.venv/lib/python3.10/site-packages (from torch>=1.6.0->pytorch_metric_learning) (2.21.5)\n",
      "Requirement already satisfied: networkx in /root/.venv/lib/python3.10/site-packages (from torch>=1.6.0->pytorch_metric_learning) (3.4.2)\n",
      "Requirement already satisfied: jinja2 in /root/.venv/lib/python3.10/site-packages (from torch>=1.6.0->pytorch_metric_learning) (3.1.6)\n",
      "Requirement already satisfied: typing-extensions>=4.10.0 in /root/.venv/lib/python3.10/site-packages (from torch>=1.6.0->pytorch_metric_learning) (4.13.2)\n",
      "Requirement already satisfied: nvidia-nvjitlink-cu12==12.4.127 in /root/.venv/lib/python3.10/site-packages (from torch>=1.6.0->pytorch_metric_learning) (12.4.127)\n",
      "Requirement already satisfied: triton==3.2.0 in /root/.venv/lib/python3.10/site-packages (from torch>=1.6.0->pytorch_metric_learning) (3.2.0)\n",
      "Requirement already satisfied: nvidia-cuda-cupti-cu12==12.4.127 in /root/.venv/lib/python3.10/site-packages (from torch>=1.6.0->pytorch_metric_learning) (12.4.127)\n",
      "Requirement already satisfied: fsspec in /root/.venv/lib/python3.10/site-packages (from torch>=1.6.0->pytorch_metric_learning) (2025.3.2)\n",
      "Requirement already satisfied: nvidia-cusparselt-cu12==0.6.2 in /root/.venv/lib/python3.10/site-packages (from torch>=1.6.0->pytorch_metric_learning) (0.6.2)\n",
      "Requirement already satisfied: filelock in /root/.venv/lib/python3.10/site-packages (from torch>=1.6.0->pytorch_metric_learning) (3.18.0)\n",
      "Requirement already satisfied: sympy==1.13.1 in /root/.venv/lib/python3.10/site-packages (from torch>=1.6.0->pytorch_metric_learning) (1.13.1)\n",
      "Requirement already satisfied: nvidia-cufft-cu12==11.2.1.3 in /root/.venv/lib/python3.10/site-packages (from torch>=1.6.0->pytorch_metric_learning) (11.2.1.3)\n",
      "Requirement already satisfied: nvidia-cudnn-cu12==9.1.0.70 in /root/.venv/lib/python3.10/site-packages (from torch>=1.6.0->pytorch_metric_learning) (9.1.0.70)\n",
      "Requirement already satisfied: nvidia-curand-cu12==10.3.5.147 in /root/.venv/lib/python3.10/site-packages (from torch>=1.6.0->pytorch_metric_learning) (10.3.5.147)\n",
      "Requirement already satisfied: nvidia-cusparse-cu12==12.3.1.170 in /root/.venv/lib/python3.10/site-packages (from torch>=1.6.0->pytorch_metric_learning) (12.3.1.170)\n",
      "Requirement already satisfied: nvidia-cuda-nvrtc-cu12==12.4.127 in /root/.venv/lib/python3.10/site-packages (from torch>=1.6.0->pytorch_metric_learning) (12.4.127)\n",
      "Requirement already satisfied: mpmath<1.4,>=1.1.0 in /root/.venv/lib/python3.10/site-packages (from sympy==1.13.1->torch>=1.6.0->pytorch_metric_learning) (1.3.0)\n",
      "Requirement already satisfied: joblib>=1.2.0 in /root/.venv/lib/python3.10/site-packages (from scikit-learn->pytorch_metric_learning) (1.4.2)\n",
      "Requirement already satisfied: threadpoolctl>=3.1.0 in /root/.venv/lib/python3.10/site-packages (from scikit-learn->pytorch_metric_learning) (3.6.0)\n",
      "Requirement already satisfied: scipy>=1.6.0 in /root/.venv/lib/python3.10/site-packages (from scikit-learn->pytorch_metric_learning) (1.15.2)\n",
      "Requirement already satisfied: MarkupSafe>=2.0 in /root/.venv/lib/python3.10/site-packages (from jinja2->torch>=1.6.0->pytorch_metric_learning) (3.0.2)\n",
      "Note: you may need to restart the kernel to use updated packages.\n"
     ]
    }
   ],
   "source": [
    "%pip install pytorch_metric_learning faiss-gpu-cu12"
   ]
  },
  {
   "cell_type": "code",
   "execution_count": 2,
   "metadata": {
    "execution": {
     "iopub.execute_input": "2025-04-22T17:20:48.483071Z",
     "iopub.status.busy": "2025-04-22T17:20:48.482894Z",
     "iopub.status.idle": "2025-04-22T17:20:48.510713Z",
     "shell.execute_reply": "2025-04-22T17:20:48.510098Z",
     "shell.execute_reply.started": "2025-04-22T17:20:48.483057Z"
    },
    "trusted": true
   },
   "outputs": [],
   "source": [
    "import os\n",
    "import math\n",
    "import faiss\n",
    "import timm\n",
    "import torch\n",
    "import torch.nn as nn\n",
    "import pandas as pd\n",
    "import numpy as np\n",
    "import matplotlib.pyplot as plt\n",
    "import torchmetrics\n",
    "import torch.nn.functional as F\n",
    "import timm\n",
    "\n",
    "from collections import defaultdict\n",
    "from sklearn.model_selection import train_test_split\n",
    "from torchvision.transforms import v2\n",
    "from tqdm import tqdm\n",
    "from PIL import Image\n",
    "from torchvision.models import resnet50, ResNet50_Weights\n",
    "from torch.utils.data import Dataset, DataLoader\n",
    "from transformers import AutoImageProcessor, AutoModel\n",
    "from pytorch_metric_learning import miners, losses, samplers, distances"
   ]
  },
  {
   "cell_type": "code",
   "execution_count": 3,
   "metadata": {
    "execution": {
     "iopub.execute_input": "2025-04-22T17:20:48.529449Z",
     "iopub.status.busy": "2025-04-22T17:20:48.528823Z",
     "iopub.status.idle": "2025-04-22T17:20:48.917032Z",
     "shell.execute_reply": "2025-04-22T17:20:48.916423Z",
     "shell.execute_reply.started": "2025-04-22T17:20:48.529407Z"
    },
    "trusted": true
   },
   "outputs": [
    {
     "data": {
      "text/plain": [
       "(405033, 56748, 113592)"
      ]
     },
     "execution_count": 3,
     "metadata": {},
     "output_type": "execute_result"
    }
   ],
   "source": [
    "PATH = \"/root/tammathon/data\"\n",
    "\n",
    "device = 'cuda' if torch.cuda.is_available() else 'cpu'\n",
    "\n",
    "train_csv = pd.read_csv(f\"{PATH}/train.csv\")\n",
    "valid_csv = pd.read_csv(f\"{PATH}/val.csv\")\n",
    "test_csv = pd.read_csv(f\"{PATH}/test.csv\")\n",
    "\n",
    "len(train_csv), len(valid_csv), len(test_csv)"
   ]
  },
  {
   "cell_type": "code",
   "execution_count": 4,
   "metadata": {
    "execution": {
     "iopub.execute_input": "2025-04-22T17:20:48.924426Z",
     "iopub.status.busy": "2025-04-22T17:20:48.924202Z",
     "iopub.status.idle": "2025-04-22T17:21:03.858228Z",
     "shell.execute_reply": "2025-04-22T17:21:03.857379Z",
     "shell.execute_reply.started": "2025-04-22T17:20:48.924410Z"
    },
    "trusted": true
   },
   "outputs": [
    {
     "data": {
      "text/html": [
       "<div>\n",
       "<style scoped>\n",
       "    .dataframe tbody tr th:only-of-type {\n",
       "        vertical-align: middle;\n",
       "    }\n",
       "\n",
       "    .dataframe tbody tr th {\n",
       "        vertical-align: top;\n",
       "    }\n",
       "\n",
       "    .dataframe thead th {\n",
       "        text-align: right;\n",
       "    }\n",
       "</style>\n",
       "<table border=\"1\" class=\"dataframe\">\n",
       "  <thead>\n",
       "    <tr style=\"text-align: right;\">\n",
       "      <th></th>\n",
       "      <th>filename</th>\n",
       "      <th>label</th>\n",
       "      <th>id</th>\n",
       "    </tr>\n",
       "  </thead>\n",
       "  <tbody>\n",
       "    <tr>\n",
       "      <th>0</th>\n",
       "      <td>train/000000/00.png</td>\n",
       "      <td>0</td>\n",
       "      <td>000000</td>\n",
       "    </tr>\n",
       "    <tr>\n",
       "      <th>1</th>\n",
       "      <td>train/000000/01.png</td>\n",
       "      <td>0</td>\n",
       "      <td>000000</td>\n",
       "    </tr>\n",
       "    <tr>\n",
       "      <th>2</th>\n",
       "      <td>train/000000/02.png</td>\n",
       "      <td>0</td>\n",
       "      <td>000000</td>\n",
       "    </tr>\n",
       "    <tr>\n",
       "      <th>3</th>\n",
       "      <td>train/000000/03.png</td>\n",
       "      <td>0</td>\n",
       "      <td>000000</td>\n",
       "    </tr>\n",
       "    <tr>\n",
       "      <th>4</th>\n",
       "      <td>train/000000/04.png</td>\n",
       "      <td>0</td>\n",
       "      <td>000000</td>\n",
       "    </tr>\n",
       "  </tbody>\n",
       "</table>\n",
       "</div>"
      ],
      "text/plain": [
       "              filename  label      id\n",
       "0  train/000000/00.png      0  000000\n",
       "1  train/000000/01.png      0  000000\n",
       "2  train/000000/02.png      0  000000\n",
       "3  train/000000/03.png      0  000000\n",
       "4  train/000000/04.png      0  000000"
      ]
     },
     "execution_count": 4,
     "metadata": {},
     "output_type": "execute_result"
    }
   ],
   "source": [
    "train_csv['id'] = [train_csv.iloc[i]['filename'].split('/')[1]\n",
    "                  for i in range(len(train_csv['filename'].values))]\n",
    "valid_csv['id'] = [valid_csv.iloc[i]['filename'].split('/')[1] \n",
    "                   for i in range(len(valid_csv['filename'].values))]\n",
    "\n",
    "combined_csv = pd.concat([train_csv, valid_csv])\n",
    "combined_csv = combined_csv.reset_index(drop=True)\n",
    "combined_csv.head()"
   ]
  },
  {
   "cell_type": "code",
   "execution_count": 5,
   "metadata": {
    "execution": {
     "iopub.execute_input": "2025-04-22T17:21:04.780699Z",
     "iopub.status.busy": "2025-04-22T17:21:04.780478Z",
     "iopub.status.idle": "2025-04-22T17:21:53.773311Z",
     "shell.execute_reply": "2025-04-22T17:21:53.772617Z",
     "shell.execute_reply.started": "2025-04-22T17:21:04.780684Z"
    },
    "trusted": true
   },
   "outputs": [
    {
     "name": "stderr",
     "output_type": "stream",
     "text": [
      "Creating ID to Image Mapping: 100%|██████████| 461781/461781 [00:08<00:00, 53829.07it/s]\n",
      "Redistributing Classes between Datasets: 100%|██████████| 130017/130017 [00:24<00:00, 5240.70it/s]\n"
     ]
    }
   ],
   "source": [
    "id_to_images = defaultdict(list)\n",
    "for i in tqdm(range(len(combined_csv)), desc=\"Creating ID to Image Mapping\"):\n",
    "    row = combined_csv.iloc[i]\n",
    "    filename, label, id = row\n",
    "    id_to_images[label].append(filename)\n",
    "\n",
    "train_data, val_data = [], []\n",
    "for label, paths in tqdm(id_to_images.items(), desc=\"Redistributing Classes between Datasets\"):\n",
    "    if len(paths) < 2:\n",
    "        train_data.extend((p, label) for p in paths)\n",
    "        continue\n",
    "    train_imgs, val_imgs = train_test_split(paths, test_size=0.2, random_state=42)\n",
    "    train_data.extend((p, label) for p in train_imgs)\n",
    "    val_data.extend((p, label) for p in val_imgs)"
   ]
  },
  {
   "cell_type": "code",
   "execution_count": 6,
   "metadata": {
    "execution": {
     "iopub.execute_input": "2025-04-22T17:21:53.783487Z",
     "iopub.status.busy": "2025-04-22T17:21:53.783256Z",
     "iopub.status.idle": "2025-04-22T17:21:59.343180Z",
     "shell.execute_reply": "2025-04-22T17:21:59.342348Z",
     "shell.execute_reply.started": "2025-04-22T17:21:53.783465Z"
    },
    "trusted": true
   },
   "outputs": [],
   "source": [
    "test_csv['id'] = [test_csv.iloc[i]['filename'].split('/')[1]\n",
    "                  for i in range(len(test_csv['filename'].values))]\n",
    "test_csv['label'] = [i for i in range(len(test_csv))]\n",
    "test_csv['id'] = [test_csv.iloc[i]['id'].split('-')[1].split('.')[0] for i in range(len(test_csv))]"
   ]
  },
  {
   "cell_type": "code",
   "execution_count": 7,
   "metadata": {
    "execution": {
     "iopub.execute_input": "2025-04-22T17:22:01.164011Z",
     "iopub.status.busy": "2025-04-22T17:22:01.163711Z",
     "iopub.status.idle": "2025-04-22T17:22:01.170087Z",
     "shell.execute_reply": "2025-04-22T17:22:01.169373Z",
     "shell.execute_reply.started": "2025-04-22T17:22:01.163982Z"
    },
    "trusted": true
   },
   "outputs": [],
   "source": [
    "class CatDataset(Dataset):\n",
    "    def __init__(self, root_dir, dataframe, transforms=None):\n",
    "        self.root_dir = root_dir\n",
    "        self.transforms = transforms\n",
    "        self.dataframe = dataframe\n",
    "    \n",
    "    def __len__(self):\n",
    "        return len(self.dataframe)\n",
    "\n",
    "    def __getitem__(self, idx):\n",
    "\n",
    "        # was causing error so I changed it to the next line\n",
    "        # row = self.dataframe.iloc[idxlabel]\n",
    "        row = self.dataframe.iloc[idx]\n",
    "\n",
    "        subset = row['filename'].split('/')[0]\n",
    "        img_path = os.path.join(self.root_dir, subset, row['filename'])\n",
    "        label = row['label']\n",
    "        img = Image.open(img_path).convert(\"RGB\")\n",
    "        if self.transforms:\n",
    "            img = self.transforms(img)\n",
    "        return img, label"
   ]
  },
  {
   "cell_type": "code",
   "execution_count": 8,
   "metadata": {
    "execution": {
     "iopub.execute_input": "2025-04-22T17:22:01.193427Z",
     "iopub.status.busy": "2025-04-22T17:22:01.193243Z",
     "iopub.status.idle": "2025-04-22T17:22:01.214876Z",
     "shell.execute_reply": "2025-04-22T17:22:01.214169Z",
     "shell.execute_reply.started": "2025-04-22T17:22:01.193412Z"
    },
    "trusted": true
   },
   "outputs": [],
   "source": [
    "class ResNetFE(nn.Module):\n",
    "    def __init__(self, embedding_size, weights=None, freeze_until='layer1'):\n",
    "        super().__init__()\n",
    "        base_model = resnet50(weights=weights)\n",
    "        \n",
    "        # Freeze layers\n",
    "        freeze = True\n",
    "        for name, param in base_model.named_parameters():\n",
    "            if freeze:\n",
    "                param.requires_grad = False\n",
    "            if freeze_until in name:\n",
    "                freeze = False\n",
    "        \n",
    "        self.backbone = nn.Sequential(*list(base_model.children())[:-2])\n",
    "        self.pool = nn.AdaptiveAvgPool2d(1)\n",
    "        self.embedding = nn.Linear(base_model.fc.in_features, embedding_size)\n",
    "\n",
    "        nn.init.xavier_uniform_(self.embedding.weight)\n",
    "        nn.init.constant_(self.embedding.bias, 0)\n",
    "\n",
    "    def forward(self, x):\n",
    "        x = self.backbone(x)\n",
    "        x = self.pool(x)\n",
    "        x = torch.flatten(x, 1)\n",
    "        emb = self.embedding(x)\n",
    "        return F.normalize(emb, p=2, dim=1)\n",
    "\n",
    "class ArcMarginProduct(nn.Module):\n",
    "    def __init__(self, embedding_size, num_classes, scale=64.0, margin=0.5, easy_margin=False):\n",
    "        super().__init__()\n",
    "        self.embedding_size = embedding_size\n",
    "        self.num_classes = num_classes\n",
    "        self.scale = scale\n",
    "        self.margin = margin\n",
    "        self.easy_margin = easy_margin\n",
    "\n",
    "        self.weight = nn.Parameter(torch.FloatTensor(num_classes, embedding_size))\n",
    "        nn.init.xavier_uniform_(self.weight)\n",
    "\n",
    "        self.cos_m = math.cos(margin)\n",
    "        self.sin_m = math.sin(margin)\n",
    "        self.th = math.cos(math.pi - margin)\n",
    "        self.mm = math.sin(math.pi - margin) * margin\n",
    "\n",
    "    def forward(self, embeddings, labels):\n",
    "        embeddings = F.normalize(embeddings, p=2, dim=1)\n",
    "        weight = F.normalize(self.weight, p=2, dim=1)\n",
    "\n",
    "        cosine = F.linear(embeddings, weight)\n",
    "        sine = torch.sqrt(1.0 - cosine**2 + 1e-6)\n",
    "\n",
    "        phi = cosine * self.cos_m - sine * self.sin_m\n",
    "\n",
    "        if self.easy_margin:\n",
    "            phi = torch.where(cosine > 0, phi, cosine)\n",
    "        else:\n",
    "            phi = torch.where(cosine > self.th, phi, cosine - self.mm)\n",
    "\n",
    "        one_hot = torch.zeros_like(cosine)\n",
    "        one_hot.scatter_(1, labels.view(-1, 1), 1.0)\n",
    "\n",
    "        logits = one_hot * phi + (1.0 - one_hot) * cosine\n",
    "        return logits * self.scale"
   ]
  },
  {
   "cell_type": "code",
   "execution_count": 9,
   "metadata": {
    "execution": {
     "iopub.execute_input": "2025-04-22T17:22:06.259715Z",
     "iopub.status.busy": "2025-04-22T17:22:06.259478Z",
     "iopub.status.idle": "2025-04-22T17:22:06.265248Z",
     "shell.execute_reply": "2025-04-22T17:22:06.264588Z",
     "shell.execute_reply.started": "2025-04-22T17:22:06.259698Z"
    },
    "trusted": true
   },
   "outputs": [],
   "source": [
    "class RetrievalAtK(torchmetrics.Metric):\n",
    "    def __init__(self, k, **kwargs):\n",
    "        super().__init__(**kwargs)\n",
    "        self.k = k\n",
    "        self.add_state(\"correct\", default=torch.tensor(0), dist_reduce_fx=\"sum\")\n",
    "        self.add_state(\"total\", default=torch.tensor(0), dist_reduce_fx=\"sum\")\n",
    "    \n",
    "    def update(self, knn_labels, query_labels):\n",
    "        top_k = knn_labels[:, :self.k]\n",
    "        matches = (top_k == query_labels.unsqueeze(1))\n",
    "        correct_per_sample = matches.any(dim=1).sum()\n",
    "        self.correct += correct_per_sample\n",
    "        self.total += query_labels.numel()\n",
    "    \n",
    "    def compute(self):\n",
    "        return self.correct.float() / self.total"
   ]
  },
  {
   "cell_type": "code",
   "execution_count": 10,
   "metadata": {
    "execution": {
     "iopub.execute_input": "2025-04-22T17:22:06.289053Z",
     "iopub.status.busy": "2025-04-22T17:22:06.288874Z",
     "iopub.status.idle": "2025-04-22T17:22:07.177712Z",
     "shell.execute_reply": "2025-04-22T17:22:07.177138Z",
     "shell.execute_reply.started": "2025-04-22T17:22:06.289039Z"
    },
    "trusted": true
   },
   "outputs": [],
   "source": [
    "train_df = pd.DataFrame(train_data, columns=['filename', 'label'])\n",
    "valid_df = pd.DataFrame(val_data, columns=['filename', 'label'])"
   ]
  },
  {
   "cell_type": "code",
   "execution_count": 11,
   "metadata": {
    "execution": {
     "iopub.execute_input": "2025-04-22T17:22:10.320316Z",
     "iopub.status.busy": "2025-04-22T17:22:10.320118Z",
     "iopub.status.idle": "2025-04-22T17:22:10.331218Z",
     "shell.execute_reply": "2025-04-22T17:22:10.330470Z",
     "shell.execute_reply.started": "2025-04-22T17:22:10.320296Z"
    },
    "trusted": true
   },
   "outputs": [
    {
     "data": {
      "text/html": [
       "<div>\n",
       "<style scoped>\n",
       "    .dataframe tbody tr th:only-of-type {\n",
       "        vertical-align: middle;\n",
       "    }\n",
       "\n",
       "    .dataframe tbody tr th {\n",
       "        vertical-align: top;\n",
       "    }\n",
       "\n",
       "    .dataframe thead th {\n",
       "        text-align: right;\n",
       "    }\n",
       "</style>\n",
       "<table border=\"1\" class=\"dataframe\">\n",
       "  <thead>\n",
       "    <tr style=\"text-align: right;\">\n",
       "      <th></th>\n",
       "      <th>filename</th>\n",
       "      <th>label</th>\n",
       "    </tr>\n",
       "  </thead>\n",
       "  <tbody>\n",
       "    <tr>\n",
       "      <th>0</th>\n",
       "      <td>train/000000/04.png</td>\n",
       "      <td>0</td>\n",
       "    </tr>\n",
       "    <tr>\n",
       "      <th>1</th>\n",
       "      <td>train/000000/02.png</td>\n",
       "      <td>0</td>\n",
       "    </tr>\n",
       "    <tr>\n",
       "      <th>2</th>\n",
       "      <td>train/000000/00.png</td>\n",
       "      <td>0</td>\n",
       "    </tr>\n",
       "    <tr>\n",
       "      <th>3</th>\n",
       "      <td>train/000000/03.png</td>\n",
       "      <td>0</td>\n",
       "    </tr>\n",
       "    <tr>\n",
       "      <th>4</th>\n",
       "      <td>train/000001/03.png</td>\n",
       "      <td>1</td>\n",
       "    </tr>\n",
       "    <tr>\n",
       "      <th>...</th>\n",
       "      <td>...</td>\n",
       "      <td>...</td>\n",
       "    </tr>\n",
       "    <tr>\n",
       "      <th>321669</th>\n",
       "      <td>val/130012/00.png</td>\n",
       "      <td>130012</td>\n",
       "    </tr>\n",
       "    <tr>\n",
       "      <th>321670</th>\n",
       "      <td>val/130013/00.png</td>\n",
       "      <td>130013</td>\n",
       "    </tr>\n",
       "    <tr>\n",
       "      <th>321671</th>\n",
       "      <td>val/130014/00.png</td>\n",
       "      <td>130014</td>\n",
       "    </tr>\n",
       "    <tr>\n",
       "      <th>321672</th>\n",
       "      <td>val/130015/00.png</td>\n",
       "      <td>130015</td>\n",
       "    </tr>\n",
       "    <tr>\n",
       "      <th>321673</th>\n",
       "      <td>val/130016/00.png</td>\n",
       "      <td>130016</td>\n",
       "    </tr>\n",
       "  </tbody>\n",
       "</table>\n",
       "<p>321674 rows × 2 columns</p>\n",
       "</div>"
      ],
      "text/plain": [
       "                   filename   label\n",
       "0       train/000000/04.png       0\n",
       "1       train/000000/02.png       0\n",
       "2       train/000000/00.png       0\n",
       "3       train/000000/03.png       0\n",
       "4       train/000001/03.png       1\n",
       "...                     ...     ...\n",
       "321669    val/130012/00.png  130012\n",
       "321670    val/130013/00.png  130013\n",
       "321671    val/130014/00.png  130014\n",
       "321672    val/130015/00.png  130015\n",
       "321673    val/130016/00.png  130016\n",
       "\n",
       "[321674 rows x 2 columns]"
      ]
     },
     "execution_count": 11,
     "metadata": {},
     "output_type": "execute_result"
    }
   ],
   "source": [
    "train_df"
   ]
  },
  {
   "cell_type": "code",
   "execution_count": 13,
   "metadata": {
    "execution": {
     "iopub.execute_input": "2025-04-22T17:23:36.418902Z",
     "iopub.status.busy": "2025-04-22T17:23:36.418624Z",
     "iopub.status.idle": "2025-04-22T17:23:38.158610Z",
     "shell.execute_reply": "2025-04-22T17:23:38.157921Z",
     "shell.execute_reply.started": "2025-04-22T17:23:36.418883Z"
    },
    "trusted": true
   },
   "outputs": [
    {
     "name": "stdout",
     "output_type": "stream",
     "text": [
      "dict_keys(['train_embeddings', 'val_embeddings', 'model_state_dict'])\n"
     ]
    }
   ],
   "source": [
    "# weights_path = \"/kaggle/input/resnet50-arcmargin-baseline/pytorch/resnet50_arcface/1/best_model.pth\"\n",
    "weights_path = \"output/final_embeddings.pt\"\n",
    "\n",
    "model = ResNetFE(embedding_size=512).to(device)\n",
    "arc_margin = ArcMarginProduct(512, len(train_df['label'].unique()))\n",
    "\n",
    "checkpoint = torch.load(weights_path, weights_only=True)\n",
    "print(checkpoint.keys())"
   ]
  },
  {
   "cell_type": "code",
   "execution_count": null,
   "metadata": {},
   "outputs": [],
   "source": [
    "model.load_state_dict(checkpoint['model'])\n",
    "arc_margin.load_state_dict(checkpoint['arc_margin'])"
   ]
  },
  {
   "cell_type": "code",
   "execution_count": null,
   "metadata": {
    "execution": {
     "iopub.execute_input": "2025-04-22T17:23:38.160384Z",
     "iopub.status.busy": "2025-04-22T17:23:38.159882Z",
     "iopub.status.idle": "2025-04-22T17:23:38.165295Z",
     "shell.execute_reply": "2025-04-22T17:23:38.164557Z",
     "shell.execute_reply.started": "2025-04-22T17:23:38.160366Z"
    },
    "trusted": true
   },
   "outputs": [],
   "source": [
    "train_transforms = v2.Compose([\n",
    "    v2.Resize(256),\n",
    "    v2.CenterCrop(224),\n",
    "    v2.ToImage(),\n",
    "    v2.ToDtype(torch.float32, scale=True),\n",
    "    v2.Normalize(mean=[0.485, 0.456, 0.406], \n",
    "                         std=[0.229, 0.224, 0.225])\n",
    "])\n",
    "\n",
    "test_transforms = v2.Compose([\n",
    "    v2.Resize(256),\n",
    "    v2.CenterCrop(224),\n",
    "    v2.ToImage(),\n",
    "    v2.ToDtype(torch.float32, scale=True),\n",
    "    v2.Normalize(mean=[0.485, 0.456, 0.406], \n",
    "                         std=[0.229, 0.224, 0.225])\n",
    "])"
   ]
  },
  {
   "cell_type": "code",
   "execution_count": null,
   "metadata": {
    "execution": {
     "iopub.execute_input": "2025-04-22T17:52:59.606904Z",
     "iopub.status.busy": "2025-04-22T17:52:59.606274Z",
     "iopub.status.idle": "2025-04-22T17:53:01.571343Z",
     "shell.execute_reply": "2025-04-22T17:53:01.570577Z",
     "shell.execute_reply.started": "2025-04-22T17:52:59.606871Z"
    },
    "trusted": true
   },
   "outputs": [],
   "source": [
    "class ResNetArcFace(nn.Module):\n",
    "    def __init__(self, embedding_size, n_classes, weights_path=None):\n",
    "        super().__init__()\n",
    "        self.fe = ResNetFE(embedding_size)\n",
    "        self.arc_margin = ArcMarginProduct(embedding_size, n_classes)\n",
    "        if weights_path is not None:\n",
    "            self._load_weights()\n",
    "\n",
    "    def _load_weights(self):\n",
    "        try:\n",
    "            checkpoint = torch.load(weights_path, weights_only=True)\n",
    "            self.fe.load_state_dict(checkpoint['model'])\n",
    "            self.arc_margin.load_state_dict(checkpoint['arc_margin'])\n",
    "            print(\"Weights loaded successfully.\")\n",
    "        except Exception as e:\n",
    "            print(f\"Error: {e}\")\n",
    "\n",
    "    def forward(self, x, labels=None):\n",
    "        embed = self.fe(x)\n",
    "        if labels is not None:\n",
    "            return self.arc_margin(embed, labels)\n",
    "        return embed\n",
    "\n",
    "class TimmArcFace(nn.Module):\n",
    "    def __init__(self, embedding_size, n_classes, timm_path, arc_weights=None):\n",
    "        super().__init__()\n",
    "        self.fe = timm.create_model(timm_path, pretrained=True, num_classes=0)\n",
    "        self.arc_margin = ArcMarginProduct(embedding_size, n_classes)\n",
    "        if arc_weights is not None:\n",
    "            self._load_arc_weights()\n",
    "\n",
    "    def _load_arc_weights(self):\n",
    "        try:\n",
    "            checkpoint = torch.load(weights_path, weights_only=True)\n",
    "            self.arc_margin.load_state_dict(checkpoint['arc_margin'])\n",
    "            print(\"ArcMargin Weights loaded successfully.\")\n",
    "        except Exception as e:\n",
    "            print(f\"Error: {e}\")\n",
    "\n",
    "    def forward(self, x, labels=None):\n",
    "        embed = self.fe(x)\n",
    "        if labels is not None:\n",
    "            return self.arc_margin(embed, labels)\n",
    "        return embed\n",
    "\n",
    "batch_size = 128\n",
    "embedding_size = 512\n",
    "\n",
    "train_set = CatDataset(PATH, train_df, train_transforms)\n",
    "test_set = CatDataset(PATH, test_csv, test_transforms)\n",
    "\n",
    "train_loader = DataLoader(train_set, batch_size=batch_size, shuffle=False,\n",
    "                          num_workers=4, pin_memory=True, persistent_workers=True)\n",
    "test_loader = DataLoader(test_set, batch_size=batch_size, shuffle=False,\n",
    "                         num_workers=4, pin_memory=True, persistent_workers=True)\n",
    "\n",
    "base_model = ResNetArcFace(embedding_size, len(train_df['label'].unique()),\n",
    "                           \"output/final_embeddings.pt\").to(device)\n",
    "# swin_arc = TimmArcFace(embedding_size, len(train_df['label'].unique()), \n",
    "#                        \"swin_base_patch4_window7_224\",\n",
    "#                        \"/kaggle/input/resnet50-arcmargin-baseline-v3/pytorch/default/1/2204251950-model.pt\").to(device)"
   ]
  },
  {
   "cell_type": "code",
   "execution_count": null,
   "metadata": {
    "execution": {
     "iopub.execute_input": "2025-04-22T17:53:35.277531Z",
     "iopub.status.busy": "2025-04-22T17:53:35.276856Z"
    },
    "trusted": true
   },
   "outputs": [],
   "source": [
    "def embed(dataloader, model, device):\n",
    "    model.eval()\n",
    "    outputs = {\n",
    "        'embeddings': [],\n",
    "        'labels': []\n",
    "    }\n",
    "\n",
    "    with torch.inference_mode():\n",
    "        for inputs, labels in tqdm(dataloader, desc=\"Embedding\", leave=False):\n",
    "            inputs, labels = inputs.to(device), labels.to(device)\n",
    "            embeddings = model(inputs)\n",
    "            outputs['embeddings'].append(embeddings.cpu())\n",
    "            outputs['labels'].append(labels.cpu())\n",
    "    outputs['embeddings'] = torch.cat(outputs['embeddings'])\n",
    "    outputs['labels'] = torch.cat(outputs['labels'])\n",
    "    return outputs\n",
    "\n",
    "def build_faiss_index(embeddings):\n",
    "    embeddings = embeddings.numpy().astype('float32')\n",
    "    index = faiss.IndexFlatIP(embeddings.shape[1])\n",
    "    faiss.normalize_L2(embeddings)\n",
    "    index.add(embeddings)\n",
    "    return index\n",
    "\n",
    "# def predict_similarity(model, query_dataloader, ref_dataloader, device, k=3):\n",
    "#     ref_out = embed(ref_dataloader, model, device)\n",
    "#     query_out = embed(query_dataloader, model, device)\n",
    "\n",
    "#     index = build_faiss_index(torch.cat(ref_out['embeddings']))\n",
    "#     _, indices = index.search(torch.cat(query_out['embeddings']).numpy().astype('float32'), k)\n",
    "#     return indices\n",
    "\n",
    "train_out = embed(train_loader, base_model, device)\n",
    "test_out = embed(test_loader, base_model, device)"
   ]
  },
  {
   "cell_type": "code",
   "execution_count": null,
   "metadata": {
    "trusted": true
   },
   "outputs": [],
   "source": [
    "index = build_faiss_index(torch.cat(train_out['embeddings']))\n",
    "_, indices = index.search(torch.cat(test_out['embeddings']).numpy().astype('float32'), 3)"
   ]
  },
  {
   "cell_type": "code",
   "execution_count": null,
   "metadata": {
    "execution": {
     "iopub.status.busy": "2025-04-22T17:51:19.004009Z",
     "iopub.status.idle": "2025-04-22T17:51:19.004233Z",
     "shell.execute_reply": "2025-04-22T17:51:19.004139Z",
     "shell.execute_reply.started": "2025-04-22T17:51:19.004129Z"
    },
    "trusted": true
   },
   "outputs": [],
   "source": [
    "test_csv.drop(['id', 'label'], axis=1, inplace=True)"
   ]
  },
  {
   "cell_type": "code",
   "execution_count": null,
   "metadata": {
    "execution": {
     "iopub.status.busy": "2025-04-22T17:51:19.005246Z",
     "iopub.status.idle": "2025-04-22T17:51:19.005492Z",
     "shell.execute_reply": "2025-04-22T17:51:19.005370Z",
     "shell.execute_reply.started": "2025-04-22T17:51:19.005361Z"
    },
    "trusted": true
   },
   "outputs": [],
   "source": [
    "for i in range(3):\n",
    "    test_csv[f'label_{i+1}'] = indices[:, i]\n",
    "test_csv.head()"
   ]
  },
  {
   "cell_type": "code",
   "execution_count": null,
   "metadata": {
    "execution": {
     "iopub.status.busy": "2025-04-22T17:51:19.006694Z",
     "iopub.status.idle": "2025-04-22T17:51:19.006921Z",
     "shell.execute_reply": "2025-04-22T17:51:19.006829Z",
     "shell.execute_reply.started": "2025-04-22T17:51:19.006820Z"
    },
    "trusted": true
   },
   "outputs": [],
   "source": [
    "test_csv.to_csv(\"submission.csv\", index=False)"
   ]
  }
 ],
 "metadata": {
  "kaggle": {
   "accelerator": "nvidiaTeslaT4",
   "dataSources": [
    {
     "databundleVersionId": 11957320,
     "sourceId": 95687,
     "sourceType": "competition"
    },
    {
     "datasetId": 3546787,
     "sourceId": 6665954,
     "sourceType": "datasetVersion"
    },
    {
     "modelId": 314190,
     "modelInstanceId": 293562,
     "sourceId": 351766,
     "sourceType": "modelInstanceVersion"
    }
   ],
   "dockerImageVersionId": 31013,
   "isGpuEnabled": true,
   "isInternetEnabled": true,
   "language": "python",
   "sourceType": "notebook"
  },
  "kernelspec": {
   "display_name": ".venv",
   "language": "python",
   "name": "python3"
  },
  "language_info": {
   "codemirror_mode": {
    "name": "ipython",
    "version": 3
   },
   "file_extension": ".py",
   "mimetype": "text/x-python",
   "name": "python",
   "nbconvert_exporter": "python",
   "pygments_lexer": "ipython3",
   "version": "3.10.12"
  }
 },
 "nbformat": 4,
 "nbformat_minor": 4
}
